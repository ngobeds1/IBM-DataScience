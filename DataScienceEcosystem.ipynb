{
 "cells": [
  {
   "cell_type": "markdown",
   "id": "d36515a7-3ca7-4561-81e5-aebf6291fcfa",
   "metadata": {},
   "source": [
    "# Data Science Tools and Ecosystem\n"
   ]
  },
  {
   "cell_type": "markdown",
   "id": "64e3d7f9-b42f-4074-a775-220f8fd08df7",
   "metadata": {},
   "source": [
    "In this notebook, Data Science Tools and Ecosystem are summarized."
   ]
  },
  {
   "cell_type": "markdown",
   "id": "35f9f0d8-cbef-4a61-8674-1dfeca4bfc87",
   "metadata": {},
   "source": [
    "**Objectives:**\n",
    "* List Data science languages\n",
    "* List Open source Enviroments\n",
    "* Introduce arithmetic examples\n"
   ]
  },
  {
   "cell_type": "markdown",
   "id": "175c4a1b-6423-42a3-9da0-5ad140bb8c9a",
   "metadata": {},
   "source": [
    "## Author\n",
    "Dudu Ngobeni\n"
   ]
  },
  {
   "cell_type": "markdown",
   "id": "96069fad-e816-4479-8023-22b31756c86f",
   "metadata": {},
   "source": [
    "Some of the popular languages that Data Scientists use are:"
   ]
  },
  {
   "cell_type": "markdown",
   "id": "949b7647-6054-4e16-a12c-3cfd99fc1a4d",
   "metadata": {},
   "source": [
    "1. Python\n",
    "2. R Languange\n",
    "3. Julia\n",
    "4. SQL"
   ]
  },
  {
   "cell_type": "markdown",
   "id": "be6a15b8-d9de-45f7-bd32-c9a327a61e9f",
   "metadata": {},
   "source": [
    "Some of the commonly used libraries used by Data Scientists include:\n",
    "\n",
    "1. NumPy\n",
    "2. Pandas\n",
    "3. Matplotlib\n",
    "   \n",
    "   \n"
   ]
  },
  {
   "cell_type": "markdown",
   "id": "c362f389-4ebb-4d5e-97f7-b082b75ff97a",
   "metadata": {},
   "source": [
    "| Data Science Tools|\n",
    "--- |\n",
    "|Jupyter Notebook |\n",
    "|Rstudio  |\n",
    "|GitHub|\n",
    "\n"
   ]
  },
  {
   "cell_type": "markdown",
   "id": "9340c767-3485-45ad-8a78-f731384028bc",
   "metadata": {},
   "source": [
    "### Below are a few examples of evaluating arithmetic expressions in Python\n",
    "1. Multiplication of Integers\n",
    "   * 5*2\n",
    "3. Minus Integers\n",
    "   * 12-2\n",
    "5. Adding Integers\n",
    "   * 5+5\n"
   ]
  },
  {
   "cell_type": "code",
   "execution_count": 15,
   "id": "ee8d84b1-6e9f-42cc-aa44-a5829306598d",
   "metadata": {},
   "outputs": [
    {
     "data": {
      "text/plain": [
       "17"
      ]
     },
     "execution_count": 15,
     "metadata": {},
     "output_type": "execute_result"
    }
   ],
   "source": [
    "# This a simple arithmetic expression to mutiply then add integers\n",
    "\n",
    "(3*4)+5"
   ]
  },
  {
   "cell_type": "code",
   "execution_count": 16,
   "id": "c2d973ce-4979-49f9-a84d-ba633894bb79",
   "metadata": {},
   "outputs": [
    {
     "data": {
      "text/plain": [
       "3.3333333333333335"
      ]
     },
     "execution_count": 16,
     "metadata": {},
     "output_type": "execute_result"
    }
   ],
   "source": [
    "# This will convert 200 minutes to hours by diving by 60\n",
    "200/60"
   ]
  },
  {
   "cell_type": "code",
   "execution_count": null,
   "id": "00ead7da-a60d-4e29-8e26-70fab861b933",
   "metadata": {},
   "outputs": [],
   "source": []
  }
 ],
 "metadata": {
  "kernelspec": {
   "display_name": "Python 3 (ipykernel)",
   "language": "python",
   "name": "python3"
  },
  "language_info": {
   "codemirror_mode": {
    "name": "ipython",
    "version": 3
   },
   "file_extension": ".py",
   "mimetype": "text/x-python",
   "name": "python",
   "nbconvert_exporter": "python",
   "pygments_lexer": "ipython3",
   "version": "3.11.7"
  }
 },
 "nbformat": 4,
 "nbformat_minor": 5
}
